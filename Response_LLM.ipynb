{
  "nbformat": 4,
  "nbformat_minor": 0,
  "metadata": {
    "colab": {
      "provenance": [],
      "include_colab_link": true
    },
    "kernelspec": {
      "name": "python3",
      "display_name": "Python 3"
    },
    "language_info": {
      "name": "python"
    }
  },
  "cells": [
    {
      "cell_type": "markdown",
      "metadata": {
        "id": "view-in-github",
        "colab_type": "text"
      },
      "source": [
        "<a href=\"https://colab.research.google.com/github/mehedihasan-cse/LLM/blob/main/Response_LLM.ipynb\" target=\"_parent\"><img src=\"https://colab.research.google.com/assets/colab-badge.svg\" alt=\"Open In Colab\"/></a>"
      ]
    },
    {
      "cell_type": "code",
      "execution_count": null,
      "metadata": {
        "id": "fojt6VF8Js7b"
      },
      "outputs": [],
      "source": [
        "!pip install transformers\n",
        "!pip install torch\n",
        "!pip install sentence-transformers\n",
        "\n",
        "import pandas as pd\n",
        "import torch\n",
        "from transformers import AutoTokenizer, AutoModel\n",
        "from sentence_transformers import SentenceTransformer, util\n",
        "\n",
        "# Load the pre-trained model\n",
        "model_name = 'distilbert-base-uncased'\n",
        "tokenizer = AutoTokenizer.from_pretrained(model_name)\n",
        "model = AutoModel.from_pretrained(model_name)\n",
        "sentence_model = SentenceTransformer('distilbert-base-nli-stsb-mean-tokens')\n",
        "\n",
        "\n",
        "df = pd.read_csv('/content/Demo Data 1 - Sheet1.csv')\n",
        "\n",
        "df.head()\n",
        "\n",
        "\n",
        "\n",
        "def get_similarity(reference_answers, student_answer):\n",
        "    # Encode sentences to get their embeddings\n",
        "    ref_embeddings = sentence_model.encode(reference_answers, convert_to_tensor=True)\n",
        "    student_embedding = sentence_model.encode(student_answer, convert_to_tensor=True)\n",
        "\n",
        "    # Compute cosine similarities\n",
        "    cosine_scores = util.pytorch_cos_sim(student_embedding, ref_embeddings)\n",
        "\n",
        "    # Calculate the average similarity score\n",
        "    average_score = torch.mean(cosine_scores).item()\n",
        "    return average_score\n",
        "\n",
        "def get_mark(average_score):\n",
        "    # Convert similarity score to a mark out of 5\n",
        "    if average_score >= 0.9:\n",
        "        return 5\n",
        "    elif average_score >= 0.8:\n",
        "        return 4\n",
        "    elif average_score >= 0.7:\n",
        "        return 3\n",
        "    elif average_score >= 0.6:\n",
        "        return 2\n",
        "    elif average_score >= 0.5:\n",
        "        return 1\n",
        "    else:\n",
        "        return 0\n",
        "\n",
        "# Evaluate student answers\n",
        "df['similarity_score'] = df.apply(lambda row: get_similarity([row['answer_1'], row['answer_2'], row['answer_3'], row['answer_4']], row['student_answer']), axis=1)\n",
        "df['mark'] = df['similarity_score'].apply(get_mark)\n",
        "\n",
        "# Display results\n",
        "print(df)"
      ]
    }
  ]
}